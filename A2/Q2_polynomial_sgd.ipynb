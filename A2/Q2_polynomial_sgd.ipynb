{
 "cells": [
  {
   "cell_type": "code",
   "execution_count": 15,
   "metadata": {},
   "outputs": [],
   "source": [
    "import numpy as np\n",
    "import matplotlib.pyplot as plt\n",
    "from sklearn.linear_model import LinearRegression\n",
    "from sklearn.preprocessing import PolynomialFeatures"
   ]
  },
  {
   "cell_type": "code",
   "execution_count": 16,
   "metadata": {},
   "outputs": [],
   "source": [
    "# suppose we have received the following data from some sensor\n",
    "data_x = np.linspace(1.0, 10.0, 100)[:, np.newaxis]\n",
    "data_y = np.sin(data_x) + 0.1 * np.power(data_x, 2) + 0.5 * np.random.randn(100, 1)"
   ]
  },
  {
   "cell_type": "code",
   "execution_count": 48,
   "metadata": {},
   "outputs": [
    {
     "data": {
      "text/plain": [
       "LinearRegression()"
      ]
     },
     "execution_count": 48,
     "metadata": {},
     "output_type": "execute_result"
    }
   ],
   "source": [
    "# fit a polynomial of order 6\n",
    "X = PolynomialFeatures(degree=6)\n",
    "polynomial_x = poly_reg.fit_transform(data_x)\n",
    "poly_reg.fit(polynomial_x,data_y)\n",
    "model = LinearRegression()\n",
    "model.fit(polynomial_x,data_y)"
   ]
  },
  {
   "cell_type": "code",
   "execution_count": 61,
   "metadata": {},
   "outputs": [
    {
     "data": {
      "text/plain": [
       "[<matplotlib.lines.Line2D at 0x7f58fdc1a5b0>]"
      ]
     },
     "execution_count": 61,
     "metadata": {},
     "output_type": "execute_result"
    },
    {
     "data": {
      "image/png": "[encoded data removed]",
      "text/plain": [
       "<Figure size 432x288 with 1 Axes>"
      ]
     },
     "metadata": {
      "needs_background": "light"
     },
     "output_type": "display_data"
    }
   ],
   "source": [
    "plt.scatter(data_x,data_y,color='b')\n",
    "plt.plot(data_x,model.predict(x_poly),color='r')"
   ]
  },
  {
   "cell_type": "code",
   "execution_count": 49,
   "metadata": {},
   "outputs": [],
   "source": [
    "def gradient_descent_ls(X, y, iters, alpha=0.01):\n",
    "    m, n = X.shape\n",
    "    theta = np.zeros(n).reshape(n,1)\n",
    "    losses=[]\n",
    "    \n",
    "    for t in range(iters):\n",
    "        yhat = X @ theta - y\n",
    "        grad = (1/m) * X.T @ ((X@ theta) - y)\n",
    "        theta -= alpha * grad\n",
    "        losses.append(J(theta,X,y))\n",
    "    return theta,losses"
   ]
  },
  {
   "cell_type": "code",
   "execution_count": 50,
   "metadata": {},
   "outputs": [],
   "source": [
    "# Implement gradient computation and theta update \n",
    "def gradient_descent(X, y, theta, alpha):\n",
    "    m, n = X.shape\n",
    "    costs = np.zeros(10)\n",
    "    for t in range(10):\n",
    "        grad = np.zeros(n)\n",
    "        for i in range(m):\n",
    "            yhat = X[i] @ theta\n",
    "            costs[t] += 1/m * (yhat - y[i])**2\n",
    "            for j in range(n):\n",
    "                grad[j] = grad[j] + 1/m * 2 * (yhat - y[i])*X[i,j]\n",
    "        theta = theta - alpha * grad\n",
    "    return theta, costs"
   ]
  },
  {
   "cell_type": "code",
   "execution_count": 62,
   "metadata": {},
   "outputs": [
    {
     "name": "stderr",
     "output_type": "stream",
     "text": [
      "<ipython-input-62-b0950d3342e6>:15: RuntimeWarning: overflow encountered in matmul\n",
      "  grad_theta = (2/sample_size)*(x_sample.T @ (pred - y_sample))\n",
      "<ipython-input-62-b0950d3342e6>:16: RuntimeWarning: invalid value encountered in subtract\n",
      "  theta = theta - LR * grad_theta\n"
     ]
    }
   ],
   "source": [
    "# Call stochastic gradient descent in the main loop\n",
    "m,n = polynomial_x.shape\n",
    "LR = 0.001 \n",
    "sample_size = 10\n",
    "epochs = 1000\n",
    "\n",
    "theta = np.zeros(n).reshape(n,1)\n",
    "costs = []\n",
    "for i in range(epochs): \n",
    "    t = np.random.choice(m,sample_size)\n",
    "    x_sample = polynomial_x[t]\n",
    "    y_sample = data_y[t]\n",
    "    \n",
    "    pred = x_sample @ theta\n",
    "    grad_theta = (2/sample_size)*(x_sample.T @ (pred - y_sample))\n",
    "    theta = theta - LR * grad_theta  "
   ]
  },
  {
   "cell_type": "code",
   "execution_count": 67,
   "metadata": {},
   "outputs": [
    {
     "data": {
      "text/plain": [
       "[<matplotlib.lines.Line2D at 0x7f58fd964970>]"
      ]
     },
     "execution_count": 67,
     "metadata": {},
     "output_type": "execute_result"
    },
    {
     "data": {
      "image/png": "[encoded data removed]",
      "text/plain": [
       "<Figure size 432x288 with 1 Axes>"
      ]
     },
     "metadata": {
      "needs_background": "light"
     },
     "output_type": "display_data"
    }
   ],
   "source": [
    "# predict y_hat using test_x and theta \n",
    "y_hat = model.predict(polynomial_x)\n",
    "\n",
    "# plot x vs y in blue\n",
    "# plot x vs y_hat in red\n",
    "plt.scatter(data_x,data_y)\n",
    "plt.plot(data_x,y_hat,'r')"
   ]
  },
  {
   "cell_type": "code",
   "execution_count": null,
   "metadata": {},
   "outputs": [],
   "source": []
  }
 ],
 "metadata": {
  "kernelspec": {
   "display_name": "Python 3",
   "language": "python",
   "name": "python3"
  },
  "language_info": {
   "codemirror_mode": {
    "name": "ipython",
    "version": 3
   },
   "file_extension": ".py",
   "mimetype": "text/x-python",
   "name": "python",
   "nbconvert_exporter": "python",
   "pygments_lexer": "ipython3",
   "version": "3.8.5"
  }
 },
 "nbformat": 4,
 "nbformat_minor": 4
}
