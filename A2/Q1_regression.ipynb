{
 "cells": [
  {
   "cell_type": "code",
   "execution_count": 15,
   "metadata": {},
   "outputs": [],
   "source": [
    "# import necessary modules\n",
    "import numpy as np\n",
    "import pandas as pd\n",
    "import matplotlib.pyplot as plt\n",
    "import house_sales_data as hsd\n",
    "from sklearn.model_selection import train_test_split"
   ]
  },
  {
   "cell_type": "code",
   "execution_count": null,
   "metadata": {},
   "outputs": [],
   "source": [
    "## Sacramento house price data; load\n",
    "\n",
    "data = hsd.house_sales_data()\n",
    "print(data.keys())\n",
    "\n",
    "## Get the target (i.e., price) and two features\n",
    "# price = ...\n",
    "# area = ...\n",
    "# beds = ...\n",
    "price = data[\"price\"]\n",
    "area = data[\"area\"]\n",
    "beds = data[\"beds\"]"
   ]
  },
  {
   "cell_type": "code",
   "execution_count": null,
   "metadata": {},
   "outputs": [],
   "source": [
    "# Implement gradient descent (NOT SGD, just simple GD!)\n",
    "def gradient_descent(X, y, max_iteration, learning_rate):\n",
    "    m, n = X.shape\n",
    "    theta = np.zeros(n)\n",
    "    costs = np.zeros(max_iteration)\n",
    "    for t in range(max_iteration):\n",
    "        grad = np.zeros(n)\n",
    "        for i in range(m):\n",
    "            yhat = X[i] @ theta\n",
    "            costs[t] += 1/m * (yhat - y[i])**2\n",
    "            for j in range(n):\n",
    "                grad[j] += 1/m * 2 * (yhat - y[i])*X[i,j]\n",
    "        theta -= learning_rate * grad\n",
    "    return theta, costs"
   ]
  },
  {
   "cell_type": "code",
   "execution_count": 12,
   "metadata": {},
   "outputs": [],
   "source": [
    "# Normalize data \n",
    "def normalize_data(X, y, normalize_cols):\n",
    "    min_X = X[:,normalize_cols].min(axis=0)\n",
    "    max_X = X[:,normalize_cols].max(axis=0)\n",
    "    min_y = y.min()\n",
    "    max_y = y.max()\n",
    "    X[:,normalize_cols] = (X[:,normalize_cols] - min_X) / (max_X - min_X)\n",
    "    y[:] = (y - min_y) / (max_y - min_y)\n",
    "    return X,y,min_X, max_X, min_y, max_y"
   ]
  },
  {
   "cell_type": "code",
   "execution_count": 30,
   "metadata": {},
   "outputs": [],
   "source": [
    "# Implement an evaluation metric for regression\n",
    "def evaluation_metric(y,y_hat):\n",
    "    return np.mean(np.square(y-y_hat))\n",
    "    #I have used MSE"
   ]
  },
  {
   "cell_type": "code",
   "execution_count": 16,
   "metadata": {},
   "outputs": [],
   "source": [
    "# Prepare data this way\n",
    "X_train = np.hstack((area[:,np.newaxis], beds[:,np.newaxis], np.ones(area.shape[0])[:,np.newaxis]))\n",
    "y_train = price\n",
    "X, y, min_X, max_X, min_y, max_y = normalize_data(X_train, y_train, [True, True, False])\n",
    "X_train, X_test, y_train, y_test = train_test_split(X, y, test_size=0.2, random_state=42)"
   ]
  },
  {
   "cell_type": "code",
   "execution_count": 25,
   "metadata": {},
   "outputs": [],
   "source": [
    "# call gradient descent and fine-tune your learning rate\n",
    "theta,costs = gradient_descent(X_train,y_train,1000,0.01)"
   ]
  },
  {
   "cell_type": "code",
   "execution_count": 26,
   "metadata": {},
   "outputs": [
    {
     "data": {
      "text/plain": [
       "Text(0, 0.5, 'Costs')"
      ]
     },
     "execution_count": 26,
     "metadata": {},
     "output_type": "execute_result"
    },
    {
     "data": {
      "image/png": "[encoded data removed]",
      "text/plain": [
       "<Figure size 432x288 with 1 Axes>"
      ]
     },
     "metadata": {
      "needs_background": "light"
     },
     "output_type": "display_data"
    }
   ],
   "source": [
    "# plot cost vs iterations \n",
    "# note gradient descent return costs for all iterations\n",
    "plt.plot(costs)\n",
    "plt.xlabel(\"Iteration\")\n",
    "plt.ylabel(\"Costs\")"
   ]
  },
  {
   "cell_type": "code",
   "execution_count": 51,
   "metadata": {},
   "outputs": [],
   "source": [
    "# print evaluation metric for test set while \n",
    "y_test_hat = X_test@theta\n",
    "evaluation_metric(y_test,y_test_hat)\n",
    "\n",
    "# changing max_iteration from 500 to 2000\n",
    "def evaluation(min,max,step,learning_rate):\n",
    "    evaluation = []\n",
    "    for max_iteration in range(min,max,step):\n",
    "        theta,costs = gradient_descent(X_train,y_train,max_iteration,learning_rate)\n",
    "        y_test_hat = X_test@theta\n",
    "        t = evaluation_metric(y_test,y_test_hat)\n",
    "        evaluation.append(t)\n",
    "    return(evaluation)\n",
    "\n",
    "ev = evaluation(500,2001,500,0.1)"
   ]
  },
  {
   "cell_type": "code",
   "execution_count": 57,
   "metadata": {},
   "outputs": [
    {
     "name": "stdout",
     "output_type": "stream",
     "text": [
      "best value of evaluation metric is 0.012660679871144692\n"
     ]
    }
   ],
   "source": [
    "# Note the best value of evaluation metric you get\n",
    "ev_GD = min(ev)\n",
    "print('best value of evaluation metric is {}'.format(ev_GD))"
   ]
  },
  {
   "cell_type": "code",
   "execution_count": 61,
   "metadata": {},
   "outputs": [
    {
     "name": "stdout",
     "output_type": "stream",
     "text": [
      "My best solution is 0.012660679871144692\n",
      "Value given by sklearn library is 0.012602503305118876\n"
     ]
    }
   ],
   "source": [
    "# compare your solution with scikit-learn library\n",
    "from sklearn import datasets, linear_model\n",
    "\n",
    "model = linear_model.LinearRegression(fit_intercept=True, normalize=False)\n",
    "model.fit(X_train, y_train)\n",
    "\n",
    "y_hat = model.predict(X_test)\n",
    "ev_sklearn = evaluation_metric(y_test,y_hat)\n",
    "print('My best solution is {}'.format(ev_GD))\n",
    "print('Value given by sklearn library is {}'.format(ev_sklearn))"
   ]
  },
  {
   "cell_type": "code",
   "execution_count": null,
   "metadata": {},
   "outputs": [],
   "source": [
    "# Create linear regression object\n",
    "model = linear_model.LinearRegression(fit_intercept=True, normalize=False)"
   ]
  },
  {
   "cell_type": "code",
   "execution_count": 62,
   "metadata": {},
   "outputs": [
    {
     "data": {
      "text/plain": [
       "LinearRegression()"
      ]
     },
     "execution_count": 62,
     "metadata": {},
     "output_type": "execute_result"
    }
   ],
   "source": [
    "# Train the model using the training sets\n",
    "X_train, X_test, y_train, y_test = train_test_split(X, y, test_size=0.2, random_state=42)\n",
    "model.fit(X_train, y_train)"
   ]
  },
  {
   "cell_type": "code",
   "execution_count": 65,
   "metadata": {},
   "outputs": [
    {
     "name": "stdout",
     "output_type": "stream",
     "text": [
      "My best solution is 0.012660679871144692\n",
      "Value given by sklearn library is 0.012602503305118876\n",
      "The difference is 5.8176566025816556e-05\n"
     ]
    }
   ],
   "source": [
    "# Predict on test set and print evaluation metric\n",
    "y_hat = model.predict(X_test)\n",
    "# How much does it differ by from \n",
    "y_hat = model.predict(X_test)\n",
    "ev_sklearn = evaluation_metric(y_test,y_hat)\n",
    "ev_diff = abs(ev_sklearn - ev_GD)\n",
    "print('My best solution is {}'.format(ev_GD))\n",
    "print('Value given by sklearn library is {}'.format(ev_sklearn))\n",
    "print('The difference is {}'.format(ev_diff))"
   ]
  },
  {
   "cell_type": "code",
   "execution_count": null,
   "metadata": {},
   "outputs": [],
   "source": []
  }
 ],
 "metadata": {
  "kernelspec": {
   "display_name": "Python 3",
   "language": "python",
   "name": "python3"
  },
  "language_info": {
   "codemirror_mode": {
    "name": "ipython",
    "version": 3
   },
   "file_extension": ".py",
   "mimetype": "text/x-python",
   "name": "python",
   "nbconvert_exporter": "python",
   "pygments_lexer": "ipython3",
   "version": "3.8.5"
  }
 },
 "nbformat": 4,
 "nbformat_minor": 4
}
